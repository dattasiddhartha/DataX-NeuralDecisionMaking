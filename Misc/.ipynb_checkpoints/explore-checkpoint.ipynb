{
 "cells": [
  {
   "cell_type": "markdown",
   "metadata": {},
   "source": [
    "### Plan\n",
    "- start with S08 and S09, who should have consistent behavior and ephys data\n",
    "- explore behavior data using pandas\n",
    "- explore neural data using mne-python\n",
    "- make first draft presentation for low-tech demo day\n",
    "\n",
    "#### bonus on behavior data\n",
    "- repeat for all subjects\n",
    "- merge dataframes, adding a column for subject id\n",
    "- read documentation and understand each variable"
   ]
  },
  {
   "cell_type": "markdown",
   "metadata": {},
   "source": [
    "## Explore behavior data using pandas"
   ]
  },
  {
   "cell_type": "code",
   "execution_count": 1,
   "metadata": {
    "collapsed": true
   },
   "outputs": [],
   "source": [
    "import pandas as pd"
   ]
  },
  {
   "cell_type": "code",
   "execution_count": 3,
   "metadata": {
    "collapsed": true
   },
   "outputs": [],
   "source": [
    "beh_dir = '../data/decision-making/data/data_behav'\n",
    "\n",
    "# os.listdir(beh_dir)"
   ]
  },
  {
   "cell_type": "markdown",
   "metadata": {},
   "source": [
    "## S08"
   ]
  },
  {
   "cell_type": "code",
   "execution_count": 4,
   "metadata": {
    "collapsed": false
   },
   "outputs": [],
   "source": [
    "beh8_df = pd.read_csv(os.path.join(beh_dir,'gamble.data.s08.csv'))"
   ]
  },
  {
   "cell_type": "code",
   "execution_count": 6,
   "metadata": {
    "collapsed": false,
    "scrolled": true
   },
   "outputs": [
    {
     "data": {
      "text/plain": [
       "0"
      ]
     },
     "execution_count": 6,
     "metadata": {},
     "output_type": "execute_result"
    }
   ],
   "source": [
    "np.sum(beh8_df['choice.class']=='Timeout')"
   ]
  },
  {
   "cell_type": "code",
   "execution_count": 7,
   "metadata": {
    "collapsed": false
   },
   "outputs": [
    {
     "data": {
      "text/html": [
       "<div>\n",
       "<style scoped>\n",
       "    .dataframe tbody tr th:only-of-type {\n",
       "        vertical-align: middle;\n",
       "    }\n",
       "\n",
       "    .dataframe tbody tr th {\n",
       "        vertical-align: top;\n",
       "    }\n",
       "\n",
       "    .dataframe thead th {\n",
       "        text-align: right;\n",
       "    }\n",
       "</style>\n",
       "<table border=\"1\" class=\"dataframe\">\n",
       "  <thead>\n",
       "    <tr style=\"text-align: right;\">\n",
       "      <th></th>\n",
       "      <th>round</th>\n",
       "      <th>newround.time</th>\n",
       "      <th>choice.time</th>\n",
       "      <th>buttonpress.time</th>\n",
       "      <th>conf.time</th>\n",
       "      <th>reveal.time</th>\n",
       "      <th>choice.class</th>\n",
       "      <th>choice.location</th>\n",
       "      <th>outcome</th>\n",
       "    </tr>\n",
       "  </thead>\n",
       "  <tbody>\n",
       "    <tr>\n",
       "      <th>0</th>\n",
       "      <td>1</td>\n",
       "      <td>331.856</td>\n",
       "      <td>332.653</td>\n",
       "      <td>334.200</td>\n",
       "      <td>334.216</td>\n",
       "      <td>334.231</td>\n",
       "      <td>Gamble</td>\n",
       "      <td>Left</td>\n",
       "      <td>Win</td>\n",
       "    </tr>\n",
       "    <tr>\n",
       "      <th>1</th>\n",
       "      <td>2</td>\n",
       "      <td>335.263</td>\n",
       "      <td>336.060</td>\n",
       "      <td>337.216</td>\n",
       "      <td>337.247</td>\n",
       "      <td>337.263</td>\n",
       "      <td>Safebet</td>\n",
       "      <td>Right</td>\n",
       "      <td>WouldHaveWon</td>\n",
       "    </tr>\n",
       "    <tr>\n",
       "      <th>2</th>\n",
       "      <td>3</td>\n",
       "      <td>338.278</td>\n",
       "      <td>339.075</td>\n",
       "      <td>340.450</td>\n",
       "      <td>340.466</td>\n",
       "      <td>340.481</td>\n",
       "      <td>Safebet</td>\n",
       "      <td>Left</td>\n",
       "      <td>WouldHaveWon</td>\n",
       "    </tr>\n",
       "    <tr>\n",
       "      <th>3</th>\n",
       "      <td>4</td>\n",
       "      <td>341.513</td>\n",
       "      <td>342.310</td>\n",
       "      <td>344.247</td>\n",
       "      <td>344.278</td>\n",
       "      <td>344.294</td>\n",
       "      <td>Gamble</td>\n",
       "      <td>Left</td>\n",
       "      <td>Win</td>\n",
       "    </tr>\n",
       "    <tr>\n",
       "      <th>4</th>\n",
       "      <td>5</td>\n",
       "      <td>345.310</td>\n",
       "      <td>346.106</td>\n",
       "      <td>347.497</td>\n",
       "      <td>347.513</td>\n",
       "      <td>347.544</td>\n",
       "      <td>Safebet</td>\n",
       "      <td>Right</td>\n",
       "      <td>WouldHaveLost</td>\n",
       "    </tr>\n",
       "  </tbody>\n",
       "</table>\n",
       "</div>"
      ],
      "text/plain": [
       "   round  newround.time  choice.time  buttonpress.time  conf.time  \\\n",
       "0      1        331.856      332.653           334.200    334.216   \n",
       "1      2        335.263      336.060           337.216    337.247   \n",
       "2      3        338.278      339.075           340.450    340.466   \n",
       "3      4        341.513      342.310           344.247    344.278   \n",
       "4      5        345.310      346.106           347.497    347.513   \n",
       "\n",
       "   reveal.time choice.class choice.location        outcome  \n",
       "0      334.231       Gamble            Left            Win  \n",
       "1      337.263      Safebet           Right   WouldHaveWon  \n",
       "2      340.481      Safebet            Left   WouldHaveWon  \n",
       "3      344.294       Gamble            Left            Win  \n",
       "4      347.544      Safebet           Right  WouldHaveLost  "
      ]
     },
     "execution_count": 7,
     "metadata": {},
     "output_type": "execute_result"
    }
   ],
   "source": [
    "beh8_df.head()"
   ]
  },
  {
   "cell_type": "code",
   "execution_count": 42,
   "metadata": {
    "collapsed": false
   },
   "outputs": [
    {
     "data": {
      "text/html": [
       "<div>\n",
       "<style scoped>\n",
       "    .dataframe tbody tr th:only-of-type {\n",
       "        vertical-align: middle;\n",
       "    }\n",
       "\n",
       "    .dataframe tbody tr th {\n",
       "        vertical-align: top;\n",
       "    }\n",
       "\n",
       "    .dataframe thead th {\n",
       "        text-align: right;\n",
       "    }\n",
       "</style>\n",
       "<table border=\"1\" class=\"dataframe\">\n",
       "  <thead>\n",
       "    <tr style=\"text-align: right;\">\n",
       "      <th></th>\n",
       "      <th>round</th>\n",
       "      <th>newround.time</th>\n",
       "      <th>choice.time</th>\n",
       "      <th>buttonpress.time</th>\n",
       "      <th>conf.time</th>\n",
       "      <th>reveal.time</th>\n",
       "      <th>choice.class</th>\n",
       "      <th>choice.location</th>\n",
       "      <th>outcome</th>\n",
       "    </tr>\n",
       "  </thead>\n",
       "  <tbody>\n",
       "    <tr>\n",
       "      <th>195</th>\n",
       "      <td>196</td>\n",
       "      <td>1029.169</td>\n",
       "      <td>1029.966</td>\n",
       "      <td>1032.153</td>\n",
       "      <td>1032.185</td>\n",
       "      <td>1032.200</td>\n",
       "      <td>Gamble</td>\n",
       "      <td>Left</td>\n",
       "      <td>Win</td>\n",
       "    </tr>\n",
       "    <tr>\n",
       "      <th>196</th>\n",
       "      <td>197</td>\n",
       "      <td>1033.216</td>\n",
       "      <td>1034.013</td>\n",
       "      <td>1034.997</td>\n",
       "      <td>1035.028</td>\n",
       "      <td>1035.044</td>\n",
       "      <td>Gamble</td>\n",
       "      <td>Left</td>\n",
       "      <td>Win</td>\n",
       "    </tr>\n",
       "    <tr>\n",
       "      <th>197</th>\n",
       "      <td>198</td>\n",
       "      <td>1036.060</td>\n",
       "      <td>1036.856</td>\n",
       "      <td>1038.700</td>\n",
       "      <td>1038.731</td>\n",
       "      <td>1038.747</td>\n",
       "      <td>Gamble</td>\n",
       "      <td>Left</td>\n",
       "      <td>Win</td>\n",
       "    </tr>\n",
       "    <tr>\n",
       "      <th>198</th>\n",
       "      <td>199</td>\n",
       "      <td>1039.763</td>\n",
       "      <td>1040.560</td>\n",
       "      <td>1041.544</td>\n",
       "      <td>1041.560</td>\n",
       "      <td>1041.591</td>\n",
       "      <td>Gamble</td>\n",
       "      <td>Right</td>\n",
       "      <td>Win</td>\n",
       "    </tr>\n",
       "    <tr>\n",
       "      <th>199</th>\n",
       "      <td>200</td>\n",
       "      <td>1042.606</td>\n",
       "      <td>1043.403</td>\n",
       "      <td>1044.403</td>\n",
       "      <td>1044.419</td>\n",
       "      <td>1044.450</td>\n",
       "      <td>Safebet</td>\n",
       "      <td>Left</td>\n",
       "      <td>WouldHaveLost</td>\n",
       "    </tr>\n",
       "  </tbody>\n",
       "</table>\n",
       "</div>"
      ],
      "text/plain": [
       "     round  newround.time  choice.time  buttonpress.time  conf.time  \\\n",
       "195    196       1029.169     1029.966          1032.153   1032.185   \n",
       "196    197       1033.216     1034.013          1034.997   1035.028   \n",
       "197    198       1036.060     1036.856          1038.700   1038.731   \n",
       "198    199       1039.763     1040.560          1041.544   1041.560   \n",
       "199    200       1042.606     1043.403          1044.403   1044.419   \n",
       "\n",
       "     reveal.time choice.class choice.location        outcome  \n",
       "195     1032.200       Gamble            Left            Win  \n",
       "196     1035.044       Gamble            Left            Win  \n",
       "197     1038.747       Gamble            Left            Win  \n",
       "198     1041.591       Gamble           Right            Win  \n",
       "199     1044.450      Safebet            Left  WouldHaveLost  "
      ]
     },
     "execution_count": 42,
     "metadata": {},
     "output_type": "execute_result"
    }
   ],
   "source": [
    "beh8_df.tail()"
   ]
  },
  {
   "cell_type": "markdown",
   "metadata": {},
   "source": [
    "### Observations based on this and the documentation\n",
    "TIMES\n",
    "- newround.time seems to be the event that game_events_hg is time-locked to (1 second in)\n",
    "- not clear what choice.time is...\n",
    "- buttonpress.time is the time when the subject pressed the button, indicating their decision: the event that buttonpress_events_hg is locked to (1 second in)\n",
    "- conf.time: subject choice is highlighted on the screen (their choice is confirmed, we're waiting for feedback)\n",
    "- reveal.time: gamble outcome is revealed on the screen \n",
    "\n"
   ]
  },
  {
   "cell_type": "code",
   "execution_count": 10,
   "metadata": {
    "collapsed": false
   },
   "outputs": [
    {
     "data": {
      "text/html": [
       "<div>\n",
       "<style scoped>\n",
       "    .dataframe tbody tr th:only-of-type {\n",
       "        vertical-align: middle;\n",
       "    }\n",
       "\n",
       "    .dataframe tbody tr th {\n",
       "        vertical-align: top;\n",
       "    }\n",
       "\n",
       "    .dataframe thead th {\n",
       "        text-align: right;\n",
       "    }\n",
       "</style>\n",
       "<table border=\"1\" class=\"dataframe\">\n",
       "  <thead>\n",
       "    <tr style=\"text-align: right;\">\n",
       "      <th></th>\n",
       "      <th>round</th>\n",
       "      <th>newround.time</th>\n",
       "      <th>choice.time</th>\n",
       "      <th>buttonpress.time</th>\n",
       "      <th>conf.time</th>\n",
       "      <th>reveal.time</th>\n",
       "    </tr>\n",
       "  </thead>\n",
       "  <tbody>\n",
       "    <tr>\n",
       "      <th>count</th>\n",
       "      <td>200.000000</td>\n",
       "      <td>200.000000</td>\n",
       "      <td>200.000000</td>\n",
       "      <td>200.000000</td>\n",
       "      <td>200.000000</td>\n",
       "      <td>200.00000</td>\n",
       "    </tr>\n",
       "    <tr>\n",
       "      <th>mean</th>\n",
       "      <td>100.500000</td>\n",
       "      <td>700.281300</td>\n",
       "      <td>701.078135</td>\n",
       "      <td>702.789055</td>\n",
       "      <td>702.808415</td>\n",
       "      <td>702.82963</td>\n",
       "    </tr>\n",
       "    <tr>\n",
       "      <th>std</th>\n",
       "      <td>57.879185</td>\n",
       "      <td>206.890447</td>\n",
       "      <td>206.890449</td>\n",
       "      <td>206.656598</td>\n",
       "      <td>206.657165</td>\n",
       "      <td>206.65740</td>\n",
       "    </tr>\n",
       "    <tr>\n",
       "      <th>min</th>\n",
       "      <td>1.000000</td>\n",
       "      <td>331.856000</td>\n",
       "      <td>332.653000</td>\n",
       "      <td>334.200000</td>\n",
       "      <td>334.216000</td>\n",
       "      <td>334.23100</td>\n",
       "    </tr>\n",
       "    <tr>\n",
       "      <th>25%</th>\n",
       "      <td>50.750000</td>\n",
       "      <td>524.727750</td>\n",
       "      <td>525.524750</td>\n",
       "      <td>527.481500</td>\n",
       "      <td>527.496750</td>\n",
       "      <td>527.52475</td>\n",
       "    </tr>\n",
       "    <tr>\n",
       "      <th>50%</th>\n",
       "      <td>100.500000</td>\n",
       "      <td>706.935000</td>\n",
       "      <td>707.731000</td>\n",
       "      <td>709.950000</td>\n",
       "      <td>709.974000</td>\n",
       "      <td>709.99700</td>\n",
       "    </tr>\n",
       "    <tr>\n",
       "      <th>75%</th>\n",
       "      <td>150.250000</td>\n",
       "      <td>879.024250</td>\n",
       "      <td>879.821250</td>\n",
       "      <td>881.102500</td>\n",
       "      <td>881.118500</td>\n",
       "      <td>881.13375</td>\n",
       "    </tr>\n",
       "    <tr>\n",
       "      <th>max</th>\n",
       "      <td>200.000000</td>\n",
       "      <td>1042.606000</td>\n",
       "      <td>1043.403000</td>\n",
       "      <td>1044.403000</td>\n",
       "      <td>1044.419000</td>\n",
       "      <td>1044.45000</td>\n",
       "    </tr>\n",
       "  </tbody>\n",
       "</table>\n",
       "</div>"
      ],
      "text/plain": [
       "            round  newround.time  choice.time  buttonpress.time    conf.time  \\\n",
       "count  200.000000     200.000000   200.000000        200.000000   200.000000   \n",
       "mean   100.500000     700.281300   701.078135        702.789055   702.808415   \n",
       "std     57.879185     206.890447   206.890449        206.656598   206.657165   \n",
       "min      1.000000     331.856000   332.653000        334.200000   334.216000   \n",
       "25%     50.750000     524.727750   525.524750        527.481500   527.496750   \n",
       "50%    100.500000     706.935000   707.731000        709.950000   709.974000   \n",
       "75%    150.250000     879.024250   879.821250        881.102500   881.118500   \n",
       "max    200.000000    1042.606000  1043.403000       1044.403000  1044.419000   \n",
       "\n",
       "       reveal.time  \n",
       "count    200.00000  \n",
       "mean     702.82963  \n",
       "std      206.65740  \n",
       "min      334.23100  \n",
       "25%      527.52475  \n",
       "50%      709.99700  \n",
       "75%      881.13375  \n",
       "max     1044.45000  "
      ]
     },
     "execution_count": 10,
     "metadata": {},
     "output_type": "execute_result"
    }
   ],
   "source": [
    "beh8_df.describe()"
   ]
  },
  {
   "cell_type": "code",
   "execution_count": 11,
   "metadata": {
    "collapsed": false
   },
   "outputs": [
    {
     "data": {
      "text/plain": [
       "array(['Win', 'WouldHaveWon', 'WouldHaveLost', 'Loss'], dtype=object)"
      ]
     },
     "execution_count": 11,
     "metadata": {},
     "output_type": "execute_result"
    }
   ],
   "source": [
    "beh8_df['outcome'].unique()"
   ]
  },
  {
   "cell_type": "code",
   "execution_count": 12,
   "metadata": {
    "collapsed": false
   },
   "outputs": [
    {
     "data": {
      "text/plain": [
       "array(['Gamble', 'Safebet'], dtype=object)"
      ]
     },
     "execution_count": 12,
     "metadata": {},
     "output_type": "execute_result"
    }
   ],
   "source": [
    "beh8_df['choice.class'].unique()"
   ]
  },
  {
   "cell_type": "markdown",
   "metadata": {},
   "source": [
    "## Explore neural data using mne-python"
   ]
  },
  {
   "cell_type": "markdown",
   "metadata": {},
   "source": [
    "### Based on documentation, sfreq = 1000 (1 kHz)"
   ]
  },
  {
   "cell_type": "code",
   "execution_count": 39,
   "metadata": {
    "collapsed": true
   },
   "outputs": [],
   "source": [
    "sfreq = 1000"
   ]
  },
  {
   "cell_type": "code",
   "execution_count": 17,
   "metadata": {
    "collapsed": false
   },
   "outputs": [],
   "source": [
    "neur_dir = '../data/decision-making/data/data_ephys'\n",
    "\n",
    "# os.listdir(neur_dir)"
   ]
  },
  {
   "cell_type": "code",
   "execution_count": 18,
   "metadata": {
    "collapsed": true
   },
   "outputs": [],
   "source": [
    "from scipy.io import loadmat"
   ]
  },
  {
   "cell_type": "code",
   "execution_count": 19,
   "metadata": {
    "collapsed": false
   },
   "outputs": [],
   "source": [
    "neur8 = loadmat(os.path.join(neur_dir, 's08_ofc_hg_events.mat'))"
   ]
  },
  {
   "cell_type": "code",
   "execution_count": 20,
   "metadata": {
    "collapsed": false
   },
   "outputs": [
    {
     "data": {
      "text/plain": [
       "dict"
      ]
     },
     "execution_count": 20,
     "metadata": {},
     "output_type": "execute_result"
    }
   ],
   "source": [
    "type(neur8)"
   ]
  },
  {
   "cell_type": "code",
   "execution_count": 21,
   "metadata": {
    "collapsed": false
   },
   "outputs": [
    {
     "data": {
      "text/plain": [
       "dict_keys(['__header__', '__version__', '__globals__', 'buttonpress_events_hg', 'buttonpress_window_events_hg', 'game_events_hg', 'game_window_events_hg'])"
      ]
     },
     "execution_count": 21,
     "metadata": {},
     "output_type": "execute_result"
    }
   ],
   "source": [
    "neur8.keys()"
   ]
  },
  {
   "cell_type": "markdown",
   "metadata": {},
   "source": [
    "### Button-press events HG\n",
    "- -1 to 2 seconds relative to button press (per documentation)"
   ]
  },
  {
   "cell_type": "code",
   "execution_count": 22,
   "metadata": {
    "collapsed": false
   },
   "outputs": [
    {
     "data": {
      "text/plain": [
       "(200, 3001, 10)"
      ]
     },
     "execution_count": 22,
     "metadata": {},
     "output_type": "execute_result"
    }
   ],
   "source": [
    "neur8['buttonpress_events_hg'].shape"
   ]
  },
  {
   "cell_type": "code",
   "execution_count": 40,
   "metadata": {
    "collapsed": false
   },
   "outputs": [],
   "source": [
    "# 50 ms increments version of buttonpress_events_hg --> don't use this\n",
    "# neur8['buttonpress_window_events_hg'].shape"
   ]
  },
  {
   "cell_type": "markdown",
   "metadata": {},
   "source": [
    "### Game events HG\n",
    "- -1 to 2 seconds relative to game presentation event (per documentation)"
   ]
  },
  {
   "cell_type": "code",
   "execution_count": 24,
   "metadata": {
    "collapsed": false
   },
   "outputs": [
    {
     "data": {
      "text/plain": [
       "(200, 3001, 10)"
      ]
     },
     "execution_count": 24,
     "metadata": {},
     "output_type": "execute_result"
    }
   ],
   "source": [
    "neur8['game_events_hg'].shape"
   ]
  },
  {
   "cell_type": "code",
   "execution_count": 25,
   "metadata": {
    "collapsed": false
   },
   "outputs": [
    {
     "data": {
      "text/plain": [
       "(200, 57, 10)"
      ]
     },
     "execution_count": 25,
     "metadata": {},
     "output_type": "execute_result"
    }
   ],
   "source": [
    "# 50 ms increments version of game_events_hg --> don't use this\n",
    "# neur8['game_window_events_hg'].shape"
   ]
  },
  {
   "cell_type": "code",
   "execution_count": 41,
   "metadata": {
    "collapsed": false
   },
   "outputs": [
    {
     "data": {
      "image/png": "[encoded data removed]",
      "text/plain": [
       "<matplotlib.figure.Figure at 0x1a2c058da0>"
      ]
     },
     "metadata": {},
     "output_type": "display_data"
    }
   ],
   "source": [
    "import matplotlib.pyplot as plt\n",
    "%matplotlib inline\n",
    "plt.plot(neur8['game_events_hg'][:,:,7].T)\n",
    "pass"
   ]
  },
  {
   "cell_type": "markdown",
   "metadata": {
    "collapsed": true
   },
   "source": [
    "### What do the dimensions mean? 200 x 57 x 10?\n",
    "- number trials = 200\n",
    "- number time points = 3001\n",
    "- number electrodes = 10"
   ]
  },
  {
   "cell_type": "code",
   "execution_count": null,
   "metadata": {
    "collapsed": true
   },
   "outputs": [],
   "source": []
  },
  {
   "cell_type": "markdown",
   "metadata": {},
   "source": [
    "### Check that frequency range of HFA is 70-200 Hz"
   ]
  },
  {
   "cell_type": "code",
   "execution_count": null,
   "metadata": {
    "collapsed": true
   },
   "outputs": [],
   "source": []
  }
 ],
 "metadata": {
  "kernelspec": {
   "display_name": "Python 3",
   "language": "python",
   "name": "python3"
  },
  "language_info": {
   "codemirror_mode": {
    "name": "ipython",
    "version": 3
   },
   "file_extension": ".py",
   "mimetype": "text/x-python",
   "name": "python",
   "nbconvert_exporter": "python",
   "pygments_lexer": "ipython3",
   "version": "3.6.0"
  }
 },
 "nbformat": 4,
 "nbformat_minor": 2
}
