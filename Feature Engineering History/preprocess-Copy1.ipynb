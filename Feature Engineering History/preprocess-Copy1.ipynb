{
 "cells": [
  {
   "cell_type": "markdown",
   "metadata": {},
   "source": [
    "## Done\n",
    "- full preprocessing on subject 1, no need to visualize\n",
    "- for-loop over all subjects\n",
    "- exclude bad trials"
   ]
  },
  {
   "cell_type": "markdown",
   "metadata": {},
   "source": [
    "## Description"
   ]
  },
  {
   "cell_type": "markdown",
   "metadata": {},
   "source": [
    "This notebook reads in the neural and behavioral data from all subjects, excludes bad trials, and preprocesses the data for modeling down the line"
   ]
  },
  {
   "cell_type": "code",
   "execution_count": 1,
   "metadata": {},
   "outputs": [],
   "source": [
    "import glob\n",
    "import pandas as pd\n",
    "import pickle\n",
    "import scipy.io as sio\n",
    "from scipy.io import loadmat\n",
    "import unittest\n",
    "\n",
    "beh_dir = '../data/decision-making/data/data_behav'\n",
    "neur_dir = '../data/decision-making/data/data_ephys'\n",
    "\n",
    "beh_files = [file for file in glob.glob(os.path.join(beh_dir,\"gamble.data*.csv\"))]\n",
    "neur_files = [file for file in glob.glob(os.path.join(neur_dir,\"*.mat\"))]\n",
    "\n",
    "sfreq = 1000"
   ]
  },
  {
   "cell_type": "markdown",
   "metadata": {},
   "source": [
    "## Bad trials"
   ]
  },
  {
   "cell_type": "code",
   "execution_count": 2,
   "metadata": {},
   "outputs": [],
   "source": [
    "bad_trials = sio.loadmat(os.path.join(beh_dir, 'bad_trials_OFC.mat'))['bad_trials_OFC']"
   ]
  },
  {
   "cell_type": "markdown",
   "metadata": {},
   "source": [
    "## Loop through the subjects"
   ]
  },
  {
   "cell_type": "code",
   "execution_count": 3,
   "metadata": {},
   "outputs": [],
   "source": [
    "X_dict = {};\n",
    "y_dict = {};\n",
    "\n",
    "for subject, files in enumerate(zip(beh_files, neur_files)):\n",
    "    beh_file = files[0]\n",
    "    neur_file = files[1]\n",
    "    \n",
    "#     print(subject)\n",
    "#     print(beh_file)\n",
    "#     print(neur_file)\n",
    "#     print()\n",
    "    \n",
    "    # read behavior as dataframe\n",
    "    beh_df = pd.read_csv(beh_file)\n",
    "    # Add a column for bad trials: notice that you need to replace the '0' by subject here\n",
    "    beh_df['bad.trial'] = bad_trials[subject,:len(beh_df)]\n",
    "    # Add a column for trials to include (for easy indexing)\n",
    "    beh_df['include.trial'] = (beh_df['bad.trial']==0) & (beh_df['choice.location']!='Timeout')\n",
    "    \n",
    "    # create y (ground truth) label from behavior data\n",
    "    y = beh_df[beh_df['include.trial']]['choice.class'].values\n",
    "    \n",
    "    # load neural data as np array\n",
    "    neur = loadmat(neur_file)['buttonpress_events_hg']\n",
    "    \n",
    "    # create X-matrix from neural data\n",
    "    X = np.swapaxes(neur,1,2)\n",
    "    \n",
    "    # Quality check: assert that the number of include.trials in behavior data frame \n",
    "    # is the same as the number of neural traces\n",
    "    if X.shape[0] != len(y):\n",
    "        raise AssertionError(\"Number of good behavior trials does not match number of neural trials\")\n",
    "        \n",
    "    # insert data into a single dictionary\n",
    "    X_dict[subject] = X\n",
    "    y_dict[subject] = y"
   ]
  },
  {
   "cell_type": "markdown",
   "metadata": {},
   "source": [
    "## Save both dictionaries"
   ]
  },
  {
   "cell_type": "code",
   "execution_count": 45,
   "metadata": {},
   "outputs": [],
   "source": [
    "# X_dict"
   ]
  },
  {
   "cell_type": "code",
   "execution_count": 46,
   "metadata": {},
   "outputs": [],
   "source": [
    "# y_dict"
   ]
  },
  {
   "cell_type": "code",
   "execution_count": 43,
   "metadata": {},
   "outputs": [],
   "source": [
    "with open('../data/decision-making/data/data_preproc/X.pickle', 'wb') as handle:\n",
    "    pickle.dump(X_dict, handle, protocol=pickle.HIGHEST_PROTOCOL)"
   ]
  },
  {
   "cell_type": "code",
   "execution_count": 44,
   "metadata": {},
   "outputs": [],
   "source": [
    "with open('../data/decision-making/data/data_preproc/y.pickle', 'wb') as handle:\n",
    "    pickle.dump(y_dict, handle, protocol=pickle.HIGHEST_PROTOCOL)"
   ]
  }
 ],
 "metadata": {
  "kernelspec": {
   "display_name": "Python 3",
   "language": "python",
   "name": "python3"
  },
  "language_info": {
   "codemirror_mode": {
    "name": "ipython",
    "version": 3
   },
   "file_extension": ".py",
   "mimetype": "text/x-python",
   "name": "python",
   "nbconvert_exporter": "python",
   "pygments_lexer": "ipython3",
   "version": "3.6.6"
  }
 },
 "nbformat": 4,
 "nbformat_minor": 2
}
