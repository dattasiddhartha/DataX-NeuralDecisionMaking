{
 "cells": [
  {
   "cell_type": "markdown",
   "metadata": {},
   "source": [
    "## Import packages and initialize directories"
   ]
  },
  {
   "cell_type": "code",
   "execution_count": 1,
   "metadata": {},
   "outputs": [],
   "source": [
    "import glob\n",
    "import pandas as pd\n",
    "import pickle\n",
    "import scipy.io as sio\n",
    "from scipy.io import loadmat\n",
    "import unittest\n",
    "import os\n",
    "import numpy as np\n",
    "import matplotlib.pyplot as plt\n",
    "%matplotlib inline\n",
    "\n",
    "beh_dir = '../../data/decision-making/data/data_behav'\n",
    "neur_dir = '../../data/decision-making/data/data_ephys'\n",
    "preproc_dir = '../../data/decision-making/data/data_preproc'\n",
    "\n",
    "beh_files = [file for file in glob.glob(os.path.join(beh_dir,\"gamble.data*.csv\"))]\n",
    "neur_files = [file for file in glob.glob(os.path.join(neur_dir,\"*.mat\"))]\n",
    "\n",
    "sfreq = 1000"
   ]
  },
  {
   "cell_type": "markdown",
   "metadata": {},
   "source": [
    "## Check number of electrodes per subject"
   ]
  },
  {
   "cell_type": "code",
   "execution_count": 2,
   "metadata": {},
   "outputs": [],
   "source": [
    "# num_elecs=0\n",
    "# for subject, file in enumerate(neur_files):\n",
    "#     neur = loadmat(file)['buttonpress_events_hg']\n",
    "#     print()\n",
    "#     print(subject)\n",
    "#     print(neur.shape)\n",
    "#     num_examples += neur.shape[0]*neur.shape[2] # number of trials * number of electrodes in a subject"
   ]
  },
  {
   "cell_type": "markdown",
   "metadata": {},
   "source": [
    "It really looks like there are some subejcts with 60 electrode contacts. This is great!\n",
    "So actually, we have about 200 electrodes, and >36k examples to train on."
   ]
  },
  {
   "cell_type": "markdown",
   "metadata": {},
   "source": [
    "## Create df where each row corresponds to 1 subject-electrode-trial = 1 example"
   ]
  },
  {
   "cell_type": "code",
   "execution_count": 3,
   "metadata": {},
   "outputs": [
    {
     "name": "stdout",
     "output_type": "stream",
     "text": [
      "0\n",
      "\n"
     ]
    },
    {
     "name": "stderr",
     "output_type": "stream",
     "text": [
      "/anaconda/lib/python3.6/site-packages/pandas/core/frame.py:6211: FutureWarning: Sorting because non-concatenation axis is not aligned. A future version\n",
      "of pandas will change to not sort by default.\n",
      "\n",
      "To accept the future behavior, pass 'sort=False'.\n",
      "\n",
      "To retain the current behavior and silence the warning, pass 'sort=True'.\n",
      "\n",
      "  sort=sort)\n"
     ]
    },
    {
     "name": "stdout",
     "output_type": "stream",
     "text": [
      "1\n",
      "\n",
      "2\n",
      "\n",
      "3\n",
      "\n",
      "4\n",
      "\n",
      "5\n",
      "\n",
      "6\n",
      "\n",
      "7\n",
      "\n",
      "8\n",
      "\n",
      "9\n",
      "\n"
     ]
    }
   ],
   "source": [
    "# read bad_trials, for exclusion\n",
    "bad_trials = sio.loadmat(os.path.join(beh_dir, 'bad_trials_OFC.mat'))['bad_trials_OFC']\n",
    "\n",
    "# read game_model which, we hope, is identical across subjects\n",
    "game_model = pd.read_csv(os.path.join(beh_dir,'gamble_choices.csv'))\n",
    "\n",
    "# make master df where you append each subject's df\n",
    "df_master = pd.DataFrame(columns = ['subject', \n",
    "                                    'include.trial', \n",
    "                                    'round', \n",
    "                                    'newround.time', \n",
    "                                    'choice.time',\n",
    "                                    'buttonpress.time', \n",
    "                                    'conf.time', \n",
    "                                    'reveal.time', \n",
    "                                    'choice.class',\n",
    "                                    'choice.location', \n",
    "                                    'outcome', \n",
    "                                    'Safe.Bet.Amount', \n",
    "                                    'Risky.Bet.Amount',\n",
    "                                    'Risky.bet.shown.number', \n",
    "                                    'Risky.bet.hidden.number', \n",
    "                                    'Risky.Side',\n",
    "                                    'data', \n",
    "                                    'channel'])\n",
    "\n",
    "for sub_index, files in enumerate(zip(beh_files, neur_files)):\n",
    "    beh_file = files[0]\n",
    "    neur_file = files[1]\n",
    "    \n",
    "    print(sub_index)\n",
    "    print()\n",
    "    \n",
    "    ## Read data\n",
    "    # ------------------------------------------------------------------------------------------------------.\n",
    "    # behavior\n",
    "    df = pd.DataFrame()\n",
    "    df = pd.read_csv(os.path.join(beh_file))\n",
    "    \n",
    "    # neural\n",
    "    neur = loadmat(neur_file)['buttonpress_events_hg']\n",
    "    \n",
    "    ## Number trials and number electrodes\n",
    "    # ------------------------------------------------------------------------------------------------------.\n",
    "    num_trials_beh = len(df)\n",
    "    \n",
    "    num_trials = neur.shape[0]\n",
    "    num_samples = neur.shape[1]\n",
    "    nchan = neur.shape[2]\n",
    "    \n",
    "    # add subject column on the left: make it be 1-indexed, corresponding to the subid's in the file\n",
    "    df.insert(0, 'subject', sub_index+1)\n",
    "    \n",
    "    ## Append game model data\n",
    "    # ------------------------------------------------------------------------------------------------------.\n",
    "    df = df.merge(game_model[:num_trials_beh], left_index=True, right_index=True)    \n",
    "\n",
    "    ## Exclude bad trials from entire df: Makes it easier to match with neural data\n",
    "    # ------------------------------------------------------------------------------------------------------.\n",
    "    df.insert(1, 'include.trial', (bad_trials[sub_index,:num_trials_beh]==0) & (df['choice.location']!='Timeout'))\n",
    "    # exclude trials (shorten df)\n",
    "    df = df[df['include.trial']]\n",
    "    \n",
    "    # create a new index that just counts up to the number of included trials, and corresponds to the neural data\n",
    "    df.insert(0, 'trial_index_subject', np.arange(num_trials))\n",
    "    df = df.set_index('trial_index_subject')\n",
    "    \n",
    "    ## Add neural data\n",
    "    # ------------------------------------------------------------------------------------------------------.\n",
    "    # initialize a data column, that will take a row of data subject-electrode-trial,\n",
    "    # so a 1d-array of the number of time points in the data\n",
    "    df = df.assign(data=None)\n",
    "    df = df.assign(channel=None)\n",
    "    df_subject = pd.DataFrame(columns = df.columns)\n",
    "    \n",
    "    # loop over electrodes\n",
    "    for this_chan in range(nchan):\n",
    "        # create a dataframe for this specific channel, containing the behavior data for this subject\n",
    "        df_chan = df.copy()\n",
    "        df_chan['channel'] = this_chan\n",
    "        # loop over trials\n",
    "        for this_trial in range(num_trials):\n",
    "            # insert data for each trial of df: the neural data for electrode 0, that trial\n",
    "            df_chan.at[this_trial, 'data'] = list(neur[this_trial,:,this_chan])\n",
    "        df_subject = df_subject.append(df_chan)\n",
    "    df_master = df_master.append(df_subject)\n",
    "    \n",
    "    df_master.insert(0, 'index', np.arange(len(df_master)))\n",
    "    df_master = df_master.set_index('index')"
   ]
  },
  {
   "cell_type": "markdown",
   "metadata": {},
   "source": [
    "## Include only gambles where first number is 5 or 6"
   ]
  },
  {
   "cell_type": "code",
   "execution_count": 5,
   "metadata": {},
   "outputs": [],
   "source": [
    "df_use = df_master[(df_master['Risky.bet.shown.number']==5) | (df_master['Risky.bet.shown.number']==6)]\n",
    "df_use.insert(0, 'index_use', np.arange(len(df_use)))\n",
    "df_use = df_use.set_index('index_use')"
   ]
  },
  {
   "cell_type": "code",
   "execution_count": 6,
   "metadata": {},
   "outputs": [
    {
     "data": {
      "text/plain": [
       "0.5698814409484724"
      ]
     },
     "execution_count": 6,
     "metadata": {},
     "output_type": "execute_result"
    }
   ],
   "source": [
    "np.mean(df_use['choice.class']=='Gamble')"
   ]
  },
  {
   "cell_type": "markdown",
   "metadata": {},
   "source": [
    "## Extract an X-matrix from this dataframe"
   ]
  },
  {
   "cell_type": "code",
   "execution_count": 7,
   "metadata": {},
   "outputs": [],
   "source": [
    "sample_first = 0\n",
    "sample_last = 950\n",
    "num_samples = sample_last-sample_first\n",
    "\n",
    "num_examples = len(df_use)\n",
    "# # extract all the listed data into an array\n",
    "X = np.empty([num_examples,num_samples])\n",
    "\n",
    "for this_example in range(num_examples):\n",
    "    X[this_example,sample_first:sample_last] = np.asarray(df_use['data'][this_example])[sample_first:sample_last]"
   ]
  },
  {
   "cell_type": "code",
   "execution_count": 8,
   "metadata": {},
   "outputs": [],
   "source": [
    "# # plot\n",
    "# plt.plot(X.T)\n",
    "# pass"
   ]
  },
  {
   "cell_type": "code",
   "execution_count": 9,
   "metadata": {},
   "outputs": [
    {
     "data": {
      "image/png": "[encoded data removed]",
      "text/plain": [
       "<Figure size 432x288 with 1 Axes>"
      ]
     },
     "metadata": {},
     "output_type": "display_data"
    }
   ],
   "source": [
    "plt.plot(X[-10:-1,:].T)\n",
    "pass"
   ]
  },
  {
   "cell_type": "code",
   "execution_count": 10,
   "metadata": {},
   "outputs": [],
   "source": [
    "# plt.plot(np.asarray(df_use['data'][0]))\n",
    "# pass"
   ]
  },
  {
   "cell_type": "markdown",
   "metadata": {},
   "source": [
    "## Extract y-labels from this dataframe"
   ]
  },
  {
   "cell_type": "code",
   "execution_count": 11,
   "metadata": {},
   "outputs": [],
   "source": [
    "y = df_use['choice.class'].values"
   ]
  },
  {
   "cell_type": "code",
   "execution_count": 12,
   "metadata": {},
   "outputs": [
    {
     "data": {
      "text/plain": [
       "0.5698814409484724"
      ]
     },
     "execution_count": 12,
     "metadata": {},
     "output_type": "execute_result"
    }
   ],
   "source": [
    "np.mean(y=='Gamble')"
   ]
  },
  {
   "cell_type": "code",
   "execution_count": 13,
   "metadata": {},
   "outputs": [
    {
     "data": {
      "text/plain": [
       "(8772, (8772, 950))"
      ]
     },
     "execution_count": 13,
     "metadata": {},
     "output_type": "execute_result"
    }
   ],
   "source": [
    "len(y),X.shape"
   ]
  },
  {
   "cell_type": "code",
   "execution_count": 15,
   "metadata": {},
   "outputs": [
    {
     "data": {
      "text/html": [
       "<div>\n",
       "<style scoped>\n",
       "    .dataframe tbody tr th:only-of-type {\n",
       "        vertical-align: middle;\n",
       "    }\n",
       "\n",
       "    .dataframe tbody tr th {\n",
       "        vertical-align: top;\n",
       "    }\n",
       "\n",
       "    .dataframe thead th {\n",
       "        text-align: right;\n",
       "    }\n",
       "</style>\n",
       "<table border=\"1\" class=\"dataframe\">\n",
       "  <thead>\n",
       "    <tr style=\"text-align: right;\">\n",
       "      <th></th>\n",
       "      <th>Risky.Bet.Amount</th>\n",
       "      <th>Risky.Side</th>\n",
       "      <th>Risky.bet.hidden.number</th>\n",
       "      <th>Risky.bet.shown.number</th>\n",
       "      <th>Safe.Bet.Amount</th>\n",
       "      <th>buttonpress.time</th>\n",
       "      <th>channel</th>\n",
       "      <th>choice.class</th>\n",
       "      <th>choice.location</th>\n",
       "      <th>choice.time</th>\n",
       "      <th>conf.time</th>\n",
       "      <th>data</th>\n",
       "      <th>include.trial</th>\n",
       "      <th>newround.time</th>\n",
       "      <th>outcome</th>\n",
       "      <th>reveal.time</th>\n",
       "      <th>round</th>\n",
       "      <th>subject</th>\n",
       "    </tr>\n",
       "    <tr>\n",
       "      <th>index_use</th>\n",
       "      <th></th>\n",
       "      <th></th>\n",
       "      <th></th>\n",
       "      <th></th>\n",
       "      <th></th>\n",
       "      <th></th>\n",
       "      <th></th>\n",
       "      <th></th>\n",
       "      <th></th>\n",
       "      <th></th>\n",
       "      <th></th>\n",
       "      <th></th>\n",
       "      <th></th>\n",
       "      <th></th>\n",
       "      <th></th>\n",
       "      <th></th>\n",
       "      <th></th>\n",
       "      <th></th>\n",
       "    </tr>\n",
       "  </thead>\n",
       "  <tbody>\n",
       "    <tr>\n",
       "      <th>0</th>\n",
       "      <td>25</td>\n",
       "      <td>Left</td>\n",
       "      <td>1</td>\n",
       "      <td>6</td>\n",
       "      <td>10</td>\n",
       "      <td>21.519</td>\n",
       "      <td>0</td>\n",
       "      <td>Safebet</td>\n",
       "      <td>Right</td>\n",
       "      <td>20.472</td>\n",
       "      <td>21.550</td>\n",
       "      <td>[-3.7782059, -3.9974232, -4.184071, -4.3376594...</td>\n",
       "      <td>True</td>\n",
       "      <td>19.707</td>\n",
       "      <td>WouldHaveLost</td>\n",
       "      <td>22.066</td>\n",
       "      <td>5</td>\n",
       "      <td>1</td>\n",
       "    </tr>\n",
       "    <tr>\n",
       "      <th>1</th>\n",
       "      <td>20</td>\n",
       "      <td>Right</td>\n",
       "      <td>2</td>\n",
       "      <td>6</td>\n",
       "      <td>10</td>\n",
       "      <td>73.597</td>\n",
       "      <td>0</td>\n",
       "      <td>Gamble</td>\n",
       "      <td>Right</td>\n",
       "      <td>72.566</td>\n",
       "      <td>73.613</td>\n",
       "      <td>[1.0019606, 0.73734635, 0.45207462, 0.1495731,...</td>\n",
       "      <td>True</td>\n",
       "      <td>71.800</td>\n",
       "      <td>Loss</td>\n",
       "      <td>74.128</td>\n",
       "      <td>19</td>\n",
       "      <td>1</td>\n",
       "    </tr>\n",
       "    <tr>\n",
       "      <th>2</th>\n",
       "      <td>20</td>\n",
       "      <td>Right</td>\n",
       "      <td>3</td>\n",
       "      <td>5</td>\n",
       "      <td>10</td>\n",
       "      <td>94.503</td>\n",
       "      <td>0</td>\n",
       "      <td>Gamble</td>\n",
       "      <td>Right</td>\n",
       "      <td>93.003</td>\n",
       "      <td>94.519</td>\n",
       "      <td>[5.230727, 5.047644, 4.871805, 4.7062087, 4.55...</td>\n",
       "      <td>True</td>\n",
       "      <td>92.238</td>\n",
       "      <td>Loss</td>\n",
       "      <td>95.050</td>\n",
       "      <td>25</td>\n",
       "      <td>1</td>\n",
       "    </tr>\n",
       "    <tr>\n",
       "      <th>3</th>\n",
       "      <td>15</td>\n",
       "      <td>Right</td>\n",
       "      <td>1</td>\n",
       "      <td>6</td>\n",
       "      <td>10</td>\n",
       "      <td>116.394</td>\n",
       "      <td>0</td>\n",
       "      <td>Gamble</td>\n",
       "      <td>Right</td>\n",
       "      <td>114.894</td>\n",
       "      <td>116.410</td>\n",
       "      <td>[6.7167163, 6.58742, 6.432949, 6.253237, 6.048...</td>\n",
       "      <td>True</td>\n",
       "      <td>114.128</td>\n",
       "      <td>Loss</td>\n",
       "      <td>116.925</td>\n",
       "      <td>31</td>\n",
       "      <td>1</td>\n",
       "    </tr>\n",
       "    <tr>\n",
       "      <th>4</th>\n",
       "      <td>15</td>\n",
       "      <td>Right</td>\n",
       "      <td>6</td>\n",
       "      <td>5</td>\n",
       "      <td>10</td>\n",
       "      <td>120.644</td>\n",
       "      <td>0</td>\n",
       "      <td>Gamble</td>\n",
       "      <td>Right</td>\n",
       "      <td>118.707</td>\n",
       "      <td>120.660</td>\n",
       "      <td>[-4.0423503, -4.200969, -4.364239, -4.53092, -...</td>\n",
       "      <td>True</td>\n",
       "      <td>117.941</td>\n",
       "      <td>Win</td>\n",
       "      <td>121.175</td>\n",
       "      <td>32</td>\n",
       "      <td>1</td>\n",
       "    </tr>\n",
       "  </tbody>\n",
       "</table>\n",
       "</div>"
      ],
      "text/plain": [
       "          Risky.Bet.Amount Risky.Side Risky.bet.hidden.number  \\\n",
       "index_use                                                       \n",
       "0                       25       Left                       1   \n",
       "1                       20      Right                       2   \n",
       "2                       20      Right                       3   \n",
       "3                       15      Right                       1   \n",
       "4                       15      Right                       6   \n",
       "\n",
       "          Risky.bet.shown.number Safe.Bet.Amount  buttonpress.time channel  \\\n",
       "index_use                                                                    \n",
       "0                              6              10            21.519       0   \n",
       "1                              6              10            73.597       0   \n",
       "2                              5              10            94.503       0   \n",
       "3                              6              10           116.394       0   \n",
       "4                              5              10           120.644       0   \n",
       "\n",
       "          choice.class choice.location  choice.time  conf.time  \\\n",
       "index_use                                                        \n",
       "0              Safebet           Right       20.472     21.550   \n",
       "1               Gamble           Right       72.566     73.613   \n",
       "2               Gamble           Right       93.003     94.519   \n",
       "3               Gamble           Right      114.894    116.410   \n",
       "4               Gamble           Right      118.707    120.660   \n",
       "\n",
       "                                                        data include.trial  \\\n",
       "index_use                                                                    \n",
       "0          [-3.7782059, -3.9974232, -4.184071, -4.3376594...          True   \n",
       "1          [1.0019606, 0.73734635, 0.45207462, 0.1495731,...          True   \n",
       "2          [5.230727, 5.047644, 4.871805, 4.7062087, 4.55...          True   \n",
       "3          [6.7167163, 6.58742, 6.432949, 6.253237, 6.048...          True   \n",
       "4          [-4.0423503, -4.200969, -4.364239, -4.53092, -...          True   \n",
       "\n",
       "           newround.time        outcome  reveal.time round subject  \n",
       "index_use                                                           \n",
       "0                 19.707  WouldHaveLost       22.066     5       1  \n",
       "1                 71.800           Loss       74.128    19       1  \n",
       "2                 92.238           Loss       95.050    25       1  \n",
       "3                114.128           Loss      116.925    31       1  \n",
       "4                117.941            Win      121.175    32       1  "
      ]
     },
     "execution_count": 15,
     "metadata": {},
     "output_type": "execute_result"
    }
   ],
   "source": [
    "df_use.head()"
   ]
  },
  {
   "cell_type": "code",
   "execution_count": 14,
   "metadata": {},
   "outputs": [
    {
     "data": {
      "text/html": [
       "<div>\n",
       "<style scoped>\n",
       "    .dataframe tbody tr th:only-of-type {\n",
       "        vertical-align: middle;\n",
       "    }\n",
       "\n",
       "    .dataframe tbody tr th {\n",
       "        vertical-align: top;\n",
       "    }\n",
       "\n",
       "    .dataframe thead th {\n",
       "        text-align: right;\n",
       "    }\n",
       "</style>\n",
       "<table border=\"1\" class=\"dataframe\">\n",
       "  <thead>\n",
       "    <tr style=\"text-align: right;\">\n",
       "      <th></th>\n",
       "      <th>Risky.Bet.Amount</th>\n",
       "      <th>Risky.Side</th>\n",
       "      <th>Risky.bet.hidden.number</th>\n",
       "      <th>Risky.bet.shown.number</th>\n",
       "      <th>Safe.Bet.Amount</th>\n",
       "      <th>buttonpress.time</th>\n",
       "      <th>channel</th>\n",
       "      <th>choice.class</th>\n",
       "      <th>choice.location</th>\n",
       "      <th>choice.time</th>\n",
       "      <th>conf.time</th>\n",
       "      <th>data</th>\n",
       "      <th>include.trial</th>\n",
       "      <th>newround.time</th>\n",
       "      <th>outcome</th>\n",
       "      <th>reveal.time</th>\n",
       "      <th>round</th>\n",
       "      <th>subject</th>\n",
       "    </tr>\n",
       "    <tr>\n",
       "      <th>index</th>\n",
       "      <th></th>\n",
       "      <th></th>\n",
       "      <th></th>\n",
       "      <th></th>\n",
       "      <th></th>\n",
       "      <th></th>\n",
       "      <th></th>\n",
       "      <th></th>\n",
       "      <th></th>\n",
       "      <th></th>\n",
       "      <th></th>\n",
       "      <th></th>\n",
       "      <th></th>\n",
       "      <th></th>\n",
       "      <th></th>\n",
       "      <th></th>\n",
       "      <th></th>\n",
       "      <th></th>\n",
       "    </tr>\n",
       "  </thead>\n",
       "  <tbody>\n",
       "    <tr>\n",
       "      <th>0</th>\n",
       "      <td>30</td>\n",
       "      <td>Left</td>\n",
       "      <td>5</td>\n",
       "      <td>1</td>\n",
       "      <td>10</td>\n",
       "      <td>8.003</td>\n",
       "      <td>0</td>\n",
       "      <td>Gamble</td>\n",
       "      <td>Left</td>\n",
       "      <td>6.957</td>\n",
       "      <td>8.019</td>\n",
       "      <td>[-1.5872792, -1.5010008, -1.4076289, -1.307380...</td>\n",
       "      <td>True</td>\n",
       "      <td>6.191</td>\n",
       "      <td>Win</td>\n",
       "      <td>8.535</td>\n",
       "      <td>1</td>\n",
       "      <td>1</td>\n",
       "    </tr>\n",
       "    <tr>\n",
       "      <th>1</th>\n",
       "      <td>20</td>\n",
       "      <td>Left</td>\n",
       "      <td>5</td>\n",
       "      <td>4</td>\n",
       "      <td>10</td>\n",
       "      <td>11.441</td>\n",
       "      <td>0</td>\n",
       "      <td>Gamble</td>\n",
       "      <td>Left</td>\n",
       "      <td>10.316</td>\n",
       "      <td>11.457</td>\n",
       "      <td>[-7.611065, -7.581905, -7.537336, -7.476991, -...</td>\n",
       "      <td>True</td>\n",
       "      <td>9.550</td>\n",
       "      <td>Win</td>\n",
       "      <td>11.972</td>\n",
       "      <td>2</td>\n",
       "      <td>1</td>\n",
       "    </tr>\n",
       "    <tr>\n",
       "      <th>2</th>\n",
       "      <td>25</td>\n",
       "      <td>Right</td>\n",
       "      <td>8</td>\n",
       "      <td>7</td>\n",
       "      <td>10</td>\n",
       "      <td>14.832</td>\n",
       "      <td>0</td>\n",
       "      <td>Safebet</td>\n",
       "      <td>Left</td>\n",
       "      <td>13.753</td>\n",
       "      <td>14.847</td>\n",
       "      <td>[-0.62176496, -0.29704818, 0.02554655, 0.34003...</td>\n",
       "      <td>True</td>\n",
       "      <td>12.988</td>\n",
       "      <td>WouldHaveWon</td>\n",
       "      <td>15.363</td>\n",
       "      <td>3</td>\n",
       "      <td>1</td>\n",
       "    </tr>\n",
       "    <tr>\n",
       "      <th>3</th>\n",
       "      <td>30</td>\n",
       "      <td>Left</td>\n",
       "      <td>4</td>\n",
       "      <td>1</td>\n",
       "      <td>10</td>\n",
       "      <td>18.144</td>\n",
       "      <td>0</td>\n",
       "      <td>Gamble</td>\n",
       "      <td>Left</td>\n",
       "      <td>17.144</td>\n",
       "      <td>18.175</td>\n",
       "      <td>[-2.9411814, -2.7336376, -2.5177944, -2.294516...</td>\n",
       "      <td>True</td>\n",
       "      <td>16.378</td>\n",
       "      <td>Win</td>\n",
       "      <td>18.691</td>\n",
       "      <td>4</td>\n",
       "      <td>1</td>\n",
       "    </tr>\n",
       "    <tr>\n",
       "      <th>4</th>\n",
       "      <td>25</td>\n",
       "      <td>Left</td>\n",
       "      <td>1</td>\n",
       "      <td>6</td>\n",
       "      <td>10</td>\n",
       "      <td>21.519</td>\n",
       "      <td>0</td>\n",
       "      <td>Safebet</td>\n",
       "      <td>Right</td>\n",
       "      <td>20.472</td>\n",
       "      <td>21.550</td>\n",
       "      <td>[-3.7782059, -3.9974232, -4.184071, -4.3376594...</td>\n",
       "      <td>True</td>\n",
       "      <td>19.707</td>\n",
       "      <td>WouldHaveLost</td>\n",
       "      <td>22.066</td>\n",
       "      <td>5</td>\n",
       "      <td>1</td>\n",
       "    </tr>\n",
       "  </tbody>\n",
       "</table>\n",
       "</div>"
      ],
      "text/plain": [
       "      Risky.Bet.Amount Risky.Side Risky.bet.hidden.number  \\\n",
       "index                                                       \n",
       "0                   30       Left                       5   \n",
       "1                   20       Left                       5   \n",
       "2                   25      Right                       8   \n",
       "3                   30       Left                       4   \n",
       "4                   25       Left                       1   \n",
       "\n",
       "      Risky.bet.shown.number Safe.Bet.Amount  buttonpress.time channel  \\\n",
       "index                                                                    \n",
       "0                          1              10             8.003       0   \n",
       "1                          4              10            11.441       0   \n",
       "2                          7              10            14.832       0   \n",
       "3                          1              10            18.144       0   \n",
       "4                          6              10            21.519       0   \n",
       "\n",
       "      choice.class choice.location  choice.time  conf.time  \\\n",
       "index                                                        \n",
       "0           Gamble            Left        6.957      8.019   \n",
       "1           Gamble            Left       10.316     11.457   \n",
       "2          Safebet            Left       13.753     14.847   \n",
       "3           Gamble            Left       17.144     18.175   \n",
       "4          Safebet           Right       20.472     21.550   \n",
       "\n",
       "                                                    data include.trial  \\\n",
       "index                                                                    \n",
       "0      [-1.5872792, -1.5010008, -1.4076289, -1.307380...          True   \n",
       "1      [-7.611065, -7.581905, -7.537336, -7.476991, -...          True   \n",
       "2      [-0.62176496, -0.29704818, 0.02554655, 0.34003...          True   \n",
       "3      [-2.9411814, -2.7336376, -2.5177944, -2.294516...          True   \n",
       "4      [-3.7782059, -3.9974232, -4.184071, -4.3376594...          True   \n",
       "\n",
       "       newround.time        outcome  reveal.time round subject  \n",
       "index                                                           \n",
       "0              6.191            Win        8.535     1       1  \n",
       "1              9.550            Win       11.972     2       1  \n",
       "2             12.988   WouldHaveWon       15.363     3       1  \n",
       "3             16.378            Win       18.691     4       1  \n",
       "4             19.707  WouldHaveLost       22.066     5       1  "
      ]
     },
     "execution_count": 14,
     "metadata": {},
     "output_type": "execute_result"
    }
   ],
   "source": [
    "df_master.head()"
   ]
  },
  {
   "cell_type": "markdown",
   "metadata": {},
   "source": [
    "## Save df_master, df_use, X and y"
   ]
  },
  {
   "cell_type": "code",
   "execution_count": 25,
   "metadata": {},
   "outputs": [],
   "source": [
    "df_master.to_csv(os.path.join(preproc_dir,'df_master.csv')) "
   ]
  },
  {
   "cell_type": "code",
   "execution_count": 22,
   "metadata": {},
   "outputs": [],
   "source": [
    "df_use.to_csv(os.path.join(preproc_dir,'df_use_56.csv')) \n",
    "\n",
    "# os.listdir(preproc_dir)"
   ]
  },
  {
   "cell_type": "code",
   "execution_count": 26,
   "metadata": {},
   "outputs": [],
   "source": [
    "np.save(os.path.join(preproc_dir,'X_use_56_950ms.npy'),X)"
   ]
  },
  {
   "cell_type": "code",
   "execution_count": 27,
   "metadata": {},
   "outputs": [],
   "source": [
    "np.save(os.path.join(preproc_dir,'y_use_56.npy'),y)"
   ]
  }
 ],
 "metadata": {
  "kernelspec": {
   "display_name": "Python 3",
   "language": "python",
   "name": "python3"
  },
  "language_info": {
   "codemirror_mode": {
    "name": "ipython",
    "version": 3
   },
   "file_extension": ".py",
   "mimetype": "text/x-python",
   "name": "python",
   "nbconvert_exporter": "python",
   "pygments_lexer": "ipython3",
   "version": "3.6.7"
  }
 },
 "nbformat": 4,
 "nbformat_minor": 2
}
